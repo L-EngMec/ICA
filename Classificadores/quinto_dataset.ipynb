{
 "cells": [
  {
   "cell_type": "code",
   "execution_count": null,
   "metadata": {},
   "outputs": [],
   "source": []
  }
 ],
 "metadata": {
  "kernelspec": {
   "display_name": "Python 3.11.4 64-bit",
   "language": "python",
   "name": "python3"
  },
  "language_info": {
   "name": "python",
   "version": "3.11.4"
  },
  "orig_nbformat": 4,
  "vscode": {
   "interpreter": {
    "hash": "9b87e188e7d8fe9b1aeba516525496c1f27f442f2182aadd3d061b94959c8a2e"
   }
  }
 },
 "nbformat": 4,
 "nbformat_minor": 2
}
