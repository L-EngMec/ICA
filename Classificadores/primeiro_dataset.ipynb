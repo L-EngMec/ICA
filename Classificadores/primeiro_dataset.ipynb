{
 "cells": [
  {
   "cell_type": "code",
   "execution_count": 2,
   "metadata": {},
   "outputs": [],
   "source": [
    "import pandas as pd\n",
    "\n",
    "path = r'C:\\Users\\Levy\\Desktop\\ICA\\Dados\\datasets\\artificial\\batman\\data.csv'\n",
    "data = pd.read_csv(path)\n",
    "\n",
    "data = pd.DataFrame(data)"
   ]
  },
  {
   "cell_type": "code",
   "execution_count": 8,
   "metadata": {},
   "outputs": [
    {
     "data": {
      "text/plain": [
       "2\n",
       "1    6635\n",
       "2    3364\n",
       "Name: count, dtype: int64"
      ]
     },
     "execution_count": 8,
     "metadata": {},
     "output_type": "execute_result"
    }
   ],
   "source": [
    "data['2'].value_counts()"
   ]
  },
  {
   "cell_type": "code",
   "execution_count": 13,
   "metadata": {},
   "outputs": [],
   "source": [
    "# NOrmalizando os dados\n",
    "from sklearn.preprocessing import MinMaxScaler\n",
    "\n",
    "normalizador = MinMaxScaler()\n",
    "normalizador.fit(data)\n",
    "\n",
    "dados_normalizados = pd.DataFrame(normalizador.transform(data), columns = data.columns)\n",
    "dados_normalizados.head()\n",
    "\n",
    "X = dados_normalizados.drop(columns='2')\n",
    "y = dados_normalizados['2']\n"
   ]
  },
  {
   "cell_type": "code",
   "execution_count": 14,
   "metadata": {},
   "outputs": [],
   "source": [
    "# Separando os dados para o treinamento\n",
    "from sklearn.model_selection import train_test_split\n",
    "\n",
    "X_train, X_test, y_train, y_test = train_test_split(X, y, test_size=0.2, random_state=42)\n"
   ]
  },
  {
   "cell_type": "code",
   "execution_count": 15,
   "metadata": {},
   "outputs": [],
   "source": [
    "from sklearn.neural_network import MLPClassifier\n",
    "mlp = MLPClassifier(hidden_layer_sizes=(100,100), max_iter=2000, solver='adam')\n",
    "\n",
    "mlp.fit(X_train, y_train)\n",
    "\n",
    "predi = mlp.predict(X_test)"
   ]
  },
  {
   "cell_type": "code",
   "execution_count": 24,
   "metadata": {},
   "outputs": [
    {
     "data": {
      "text/plain": [
       "array([[1257,  106],\n",
       "       [ 111,  526]], dtype=int64)"
      ]
     },
     "execution_count": 24,
     "metadata": {},
     "output_type": "execute_result"
    }
   ],
   "source": [
    "from sklearn.metrics import confusion_matrix\n",
    "\n",
    "confusion_matrix(y_test, predi)\n",
    "\n",
    "# confusion_matrix(y_test, predi)[1]"
   ]
  },
  {
   "cell_type": "code",
   "execution_count": 28,
   "metadata": {},
   "outputs": [
    {
     "name": "stdout",
     "output_type": "stream",
     "text": [
      "0.9222303741746148 0.82574568288854 0.8915\n"
     ]
    }
   ],
   "source": [
    "sensibilidade = confusion_matrix(y_test, predi)[0][0]/(confusion_matrix(y_test, predi)[0][0] + confusion_matrix(y_test, predi)[0][1])\n",
    "especificidade = confusion_matrix(y_test, predi)[1][1]/(confusion_matrix(y_test, predi)[1][0] + confusion_matrix(y_test, predi)[1][1])\n",
    "acuracia = (confusion_matrix(y_test, predi)[1][1] + confusion_matrix(y_test, predi)[0][0])/(confusion_matrix(y_test, predi)[0][0] + confusion_matrix(y_test, predi)[1][1] + confusion_matrix(y_test, predi)[1][0] + confusion_matrix(y_test, predi)[0][1])\n",
    "\n",
    "print(sensibilidade, especificidade, acuracia)\n"
   ]
  },
  {
   "cell_type": "code",
   "execution_count": 19,
   "metadata": {},
   "outputs": [
    {
     "name": "stdout",
     "output_type": "stream",
     "text": [
      "acc: 0.8915, recall: 0.82574568288854, specifity:               precision    recall  f1-score   support\n",
      "\n",
      "         0.0       0.92      0.92      0.92      1363\n",
      "         1.0       0.83      0.83      0.83       637\n",
      "\n",
      "    accuracy                           0.89      2000\n",
      "   macro avg       0.88      0.87      0.87      2000\n",
      "weighted avg       0.89      0.89      0.89      2000\n",
      "\n"
     ]
    }
   ],
   "source": [
    "from sklearn.metrics import accuracy_score\n",
    "from sklearn.metrics import recall_score\n",
    "from sklearn.metrics import classification_report\n",
    "\n",
    "specifity = classification_report(y_test, predi)\n",
    "recall = recall_score(y_test, predi)\n",
    "acc = accuracy_score(y_test, predi)\n",
    "\n",
    "print(f'acc: {acc}, recall: {recall}, specifity: {specifity}')"
   ]
  },
  {
   "cell_type": "code",
   "execution_count": null,
   "metadata": {},
   "outputs": [],
   "source": []
  }
 ],
 "metadata": {
  "kernelspec": {
   "display_name": "Python 3.11.4 64-bit",
   "language": "python",
   "name": "python3"
  },
  "language_info": {
   "codemirror_mode": {
    "name": "ipython",
    "version": 3
   },
   "file_extension": ".py",
   "mimetype": "text/x-python",
   "name": "python",
   "nbconvert_exporter": "python",
   "pygments_lexer": "ipython3",
   "version": "3.11.4"
  },
  "orig_nbformat": 4,
  "vscode": {
   "interpreter": {
    "hash": "9b87e188e7d8fe9b1aeba516525496c1f27f442f2182aadd3d061b94959c8a2e"
   }
  }
 },
 "nbformat": 4,
 "nbformat_minor": 2
}
