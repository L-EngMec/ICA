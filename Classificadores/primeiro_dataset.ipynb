{
 "cells": [
  {
   "cell_type": "markdown",
   "metadata": {},
   "source": [
    "### Preparando os dados"
   ]
  },
  {
   "cell_type": "code",
   "execution_count": 4,
   "metadata": {},
   "outputs": [],
   "source": [
    "# importando os dados\n",
    "import pandas as pd\n",
    "\n",
    "path = r'/home/lapisco/Desktop/ICA/ICA/Dados/datasets/artificial/batman/data.csv'\n",
    "data = pd.read_csv(path)\n",
    "\n",
    "data = pd.DataFrame(data)"
   ]
  },
  {
   "cell_type": "code",
   "execution_count": 5,
   "metadata": {},
   "outputs": [
    {
     "data": {
      "text/plain": [
       "2\n",
       "1    6635\n",
       "2    3364\n",
       "Name: count, dtype: int64"
      ]
     },
     "execution_count": 5,
     "metadata": {},
     "output_type": "execute_result"
    }
   ],
   "source": [
    "# Verificando os valores de y\n",
    "\n",
    "data['2'].value_counts()"
   ]
  },
  {
   "cell_type": "code",
   "execution_count": 6,
   "metadata": {},
   "outputs": [],
   "source": [
    "# Pré-processamento\n",
    "#   Normalizando os dados\n",
    "\n",
    "from sklearn.preprocessing import MinMaxScaler\n",
    "\n",
    "normalizador = MinMaxScaler()\n",
    "normalizador.fit(data)\n",
    "\n",
    "dados_normalizados = pd.DataFrame(normalizador.transform(data), columns = data.columns)\n",
    "dados_normalizados.head()\n",
    "\n",
    "X = dados_normalizados.drop(columns='2')\n",
    "y = dados_normalizados['2']\n"
   ]
  },
  {
   "cell_type": "code",
   "execution_count": 7,
   "metadata": {},
   "outputs": [],
   "source": [
    "# Separando os dados para o treinamento\n",
    "\n",
    "from sklearn.model_selection import train_test_split\n",
    "\n",
    "X_train, X_test, y_train, y_test = train_test_split(X, y, test_size=0.2, random_state=42)\n"
   ]
  },
  {
   "cell_type": "code",
   "execution_count": 60,
   "metadata": {},
   "outputs": [],
   "source": [
    "# Para mostrar as metricas\n",
    "\n",
    "def metricas(matriz_confusao):\n",
    "    VP, FN = matriz_confusao[0]\n",
    "    FP, VN = matriz_confusao[1]\n",
    "    sensibilidade = VP/(VP+FN)\n",
    "    especificidade =VN/(FP+VN)\n",
    "    acuracia = (VP + VN)/(VP+FN+FP+VN)\n",
    "    return [sensibilidade, especificidade, acuracia]\n",
    "    "
   ]
  },
  {
   "cell_type": "markdown",
   "metadata": {},
   "source": [
    "### MLP "
   ]
  },
  {
   "cell_type": "code",
   "execution_count": 28,
   "metadata": {},
   "outputs": [],
   "source": [
    "from sklearn.neural_network import MLPClassifier\n",
    "\n",
    "mlp = MLPClassifier(hidden_layer_sizes=(100,100), max_iter=2000, solver='adam')\n",
    "mlp.fit(X_train, y_train)\n",
    "predi = mlp.predict(X_test)"
   ]
  },
  {
   "cell_type": "code",
   "execution_count": 61,
   "metadata": {},
   "outputs": [
    {
     "data": {
      "text/plain": [
       "array([[1340,   23],\n",
       "       [  94,  543]])"
      ]
     },
     "execution_count": 61,
     "metadata": {},
     "output_type": "execute_result"
    }
   ],
   "source": [
    "# Matriz de confusão para calcular as métricas\n",
    "from sklearn.metrics import confusion_matrix\n",
    "\n",
    "confusion_matrix(y_test, predi)"
   ]
  },
  {
   "cell_type": "code",
   "execution_count": 62,
   "metadata": {},
   "outputs": [
    {
     "name": "stdout",
     "output_type": "stream",
     "text": [
      "SENSIBILIDADE: 0.983125458547322; ESPECIFICIDADE: 0.8524332810047096;  ACURÁCIA: 0.9415\n"
     ]
    }
   ],
   "source": [
    "metrics = metricas(confusion_matrix(y_test, predi))\n",
    "print(f'SENSIBILIDADE: {metrics[0]}; ESPECIFICIDADE: {metrics[1]};  ACURÁCIA: {metrics[2]}')\n"
   ]
  },
  {
   "cell_type": "markdown",
   "metadata": {},
   "source": [
    "### Naive Bayes"
   ]
  },
  {
   "cell_type": "code",
   "execution_count": 11,
   "metadata": {},
   "outputs": [
    {
     "name": "stdout",
     "output_type": "stream",
     "text": [
      "[[1325  258]\n",
      " [  38  379]]\n"
     ]
    }
   ],
   "source": [
    "from sklearn.naive_bayes import GaussianNB\n",
    "\n",
    "naiveBayesGaussian = GaussianNB()\n",
    "naiveBayesGaussian.fit(X_train, y_train)\n",
    "prediNB = naiveBayesGaussian.predict(X_test)\n",
    "\n",
    "print(confusion_matrix(prediNB, y_test))"
   ]
  },
  {
   "cell_type": "code",
   "execution_count": 64,
   "metadata": {},
   "outputs": [
    {
     "name": "stdout",
     "output_type": "stream",
     "text": [
      "SENSIBILIDADE: 0.8370183196462413; ESPECIFICIDADE: 0.9088729016786571;  ACURÁCIA: 0.852\n"
     ]
    }
   ],
   "source": [
    "metrics = metricas(confusion_matrix(prediNB, y_test))\n",
    "print(f'SENSIBILIDADE: {metrics[0]}; ESPECIFICIDADE: {metrics[1]};  ACURÁCIA: {metrics[2]}')"
   ]
  }
 ],
 "metadata": {
  "kernelspec": {
   "display_name": "Python 3.11.4 64-bit",
   "language": "python",
   "name": "python3"
  },
  "language_info": {
   "codemirror_mode": {
    "name": "ipython",
    "version": 3
   },
   "file_extension": ".py",
   "mimetype": "text/x-python",
   "name": "python",
   "nbconvert_exporter": "python",
   "pygments_lexer": "ipython3",
   "version": "3.10.6"
  },
  "orig_nbformat": 4,
  "vscode": {
   "interpreter": {
    "hash": "9b87e188e7d8fe9b1aeba516525496c1f27f442f2182aadd3d061b94959c8a2e"
   }
  }
 },
 "nbformat": 4,
 "nbformat_minor": 2
}
