{
 "cells": [
  {
   "cell_type": "code",
   "execution_count": 1,
   "metadata": {},
   "outputs": [
    {
     "data": {
      "text/html": [
       "<div>\n",
       "<style scoped>\n",
       "    .dataframe tbody tr th:only-of-type {\n",
       "        vertical-align: middle;\n",
       "    }\n",
       "\n",
       "    .dataframe tbody tr th {\n",
       "        vertical-align: top;\n",
       "    }\n",
       "\n",
       "    .dataframe thead th {\n",
       "        text-align: right;\n",
       "    }\n",
       "</style>\n",
       "<table border=\"1\" class=\"dataframe\">\n",
       "  <thead>\n",
       "    <tr style=\"text-align: right;\">\n",
       "      <th></th>\n",
       "      <th>0</th>\n",
       "      <th>0.016938</th>\n",
       "    </tr>\n",
       "  </thead>\n",
       "  <tbody>\n",
       "    <tr>\n",
       "      <th>0</th>\n",
       "      <td>0.015747</td>\n",
       "      <td>0.097266</td>\n",
       "    </tr>\n",
       "    <tr>\n",
       "      <th>1</th>\n",
       "      <td>0.031495</td>\n",
       "      <td>0.200640</td>\n",
       "    </tr>\n",
       "    <tr>\n",
       "      <th>2</th>\n",
       "      <td>0.047242</td>\n",
       "      <td>0.280490</td>\n",
       "    </tr>\n",
       "    <tr>\n",
       "      <th>3</th>\n",
       "      <td>0.062989</td>\n",
       "      <td>0.374350</td>\n",
       "    </tr>\n",
       "    <tr>\n",
       "      <th>4</th>\n",
       "      <td>0.078737</td>\n",
       "      <td>0.429360</td>\n",
       "    </tr>\n",
       "    <tr>\n",
       "      <th>...</th>\n",
       "      <td>...</td>\n",
       "      <td>...</td>\n",
       "    </tr>\n",
       "    <tr>\n",
       "      <th>394</th>\n",
       "      <td>6.220200</td>\n",
       "      <td>-0.272460</td>\n",
       "    </tr>\n",
       "    <tr>\n",
       "      <th>395</th>\n",
       "      <td>6.235900</td>\n",
       "      <td>-0.146920</td>\n",
       "    </tr>\n",
       "    <tr>\n",
       "      <th>396</th>\n",
       "      <td>6.251700</td>\n",
       "      <td>-0.066223</td>\n",
       "    </tr>\n",
       "    <tr>\n",
       "      <th>397</th>\n",
       "      <td>6.267400</td>\n",
       "      <td>-0.065585</td>\n",
       "    </tr>\n",
       "    <tr>\n",
       "      <th>398</th>\n",
       "      <td>6.283200</td>\n",
       "      <td>0.055208</td>\n",
       "    </tr>\n",
       "  </tbody>\n",
       "</table>\n",
       "<p>399 rows × 2 columns</p>\n",
       "</div>"
      ],
      "text/plain": [
       "            0  0.016938\n",
       "0    0.015747  0.097266\n",
       "1    0.031495  0.200640\n",
       "2    0.047242  0.280490\n",
       "3    0.062989  0.374350\n",
       "4    0.078737  0.429360\n",
       "..        ...       ...\n",
       "394  6.220200 -0.272460\n",
       "395  6.235900 -0.146920\n",
       "396  6.251700 -0.066223\n",
       "397  6.267400 -0.065585\n",
       "398  6.283200  0.055208\n",
       "\n",
       "[399 rows x 2 columns]"
      ]
     },
     "execution_count": 1,
     "metadata": {},
     "output_type": "execute_result"
    }
   ],
   "source": [
    "# importando os dados\n",
    "import pandas as pd\n",
    "\n",
    "path = r'/home/lapisco/Desktop/ica/ICA/Dados/datasets/regressao/sawtooth/data.csv'\n",
    "data = pd.read_csv(path)\n",
    "\n",
    "data = pd.DataFrame(data)\n",
    "data"
   ]
  },
  {
   "cell_type": "code",
   "execution_count": 2,
   "metadata": {},
   "outputs": [
    {
     "data": {
      "text/plain": [
       "<Axes: xlabel='0', ylabel='0.016938'>"
      ]
     },
     "execution_count": 2,
     "metadata": {},
     "output_type": "execute_result"
    },
    {
     "data": {
      "image/png": "[encoded data removed]",
      "text/plain": [
       "<Figure size 640x480 with 1 Axes>"
      ]
     },
     "metadata": {},
     "output_type": "display_data"
    }
   ],
   "source": [
    "data.plot(kind='scatter', x = '0', y = '0.016938')"
   ]
  },
  {
   "cell_type": "code",
   "execution_count": 3,
   "metadata": {},
   "outputs": [
    {
     "data": {
      "text/html": [
       "<div>\n",
       "<style scoped>\n",
       "    .dataframe tbody tr th:only-of-type {\n",
       "        vertical-align: middle;\n",
       "    }\n",
       "\n",
       "    .dataframe tbody tr th {\n",
       "        vertical-align: top;\n",
       "    }\n",
       "\n",
       "    .dataframe thead th {\n",
       "        text-align: right;\n",
       "    }\n",
       "</style>\n",
       "<table border=\"1\" class=\"dataframe\">\n",
       "  <thead>\n",
       "    <tr style=\"text-align: right;\">\n",
       "      <th></th>\n",
       "      <th>0</th>\n",
       "      <th>0.016938</th>\n",
       "    </tr>\n",
       "  </thead>\n",
       "  <tbody>\n",
       "    <tr>\n",
       "      <th>0</th>\n",
       "      <td>0.000000</td>\n",
       "      <td>0.528059</td>\n",
       "    </tr>\n",
       "    <tr>\n",
       "      <th>1</th>\n",
       "      <td>0.002513</td>\n",
       "      <td>0.581323</td>\n",
       "    </tr>\n",
       "    <tr>\n",
       "      <th>2</th>\n",
       "      <td>0.005025</td>\n",
       "      <td>0.622466</td>\n",
       "    </tr>\n",
       "    <tr>\n",
       "      <th>3</th>\n",
       "      <td>0.007538</td>\n",
       "      <td>0.670828</td>\n",
       "    </tr>\n",
       "    <tr>\n",
       "      <th>4</th>\n",
       "      <td>0.010050</td>\n",
       "      <td>0.699172</td>\n",
       "    </tr>\n",
       "  </tbody>\n",
       "</table>\n",
       "</div>"
      ],
      "text/plain": [
       "          0  0.016938\n",
       "0  0.000000  0.528059\n",
       "1  0.002513  0.581323\n",
       "2  0.005025  0.622466\n",
       "3  0.007538  0.670828\n",
       "4  0.010050  0.699172"
      ]
     },
     "execution_count": 3,
     "metadata": {},
     "output_type": "execute_result"
    }
   ],
   "source": [
    "# Pré-processamento\n",
    "#   Normalizando os dados\n",
    "\n",
    "from sklearn.preprocessing import MinMaxScaler\n",
    "\n",
    "normalizador = MinMaxScaler()\n",
    "normalizador.fit(data)\n",
    "\n",
    "dados_normalizados = pd.DataFrame(normalizador.transform(data), columns = data.columns)\n",
    "\n",
    "X = dados_normalizados.drop(columns='0.016938')\n",
    "y = dados_normalizados['0.016938']\n",
    "\n",
    "XB = data.drop(columns='0.016938')\n",
    "yB = data['0.016938']\n",
    "\n",
    "dados_normalizados.head()\n"
   ]
  },
  {
   "cell_type": "code",
   "execution_count": 4,
   "metadata": {},
   "outputs": [],
   "source": [
    "from sklearn.model_selection import train_test_split\n",
    "\n",
    "X_trainB, X_testB, y_trainB, y_testB = train_test_split(XB, yB, test_size=0.2, random_state=42)\n",
    "X_train, X_test, y_train, y_test = train_test_split(X, y, test_size=0.2, random_state=42)"
   ]
  },
  {
   "cell_type": "code",
   "execution_count": 5,
   "metadata": {},
   "outputs": [
    {
     "data": {
      "text/html": [
       "<div>\n",
       "<style scoped>\n",
       "    .dataframe tbody tr th:only-of-type {\n",
       "        vertical-align: middle;\n",
       "    }\n",
       "\n",
       "    .dataframe tbody tr th {\n",
       "        vertical-align: top;\n",
       "    }\n",
       "\n",
       "    .dataframe thead th {\n",
       "        text-align: right;\n",
       "    }\n",
       "</style>\n",
       "<table border=\"1\" class=\"dataframe\">\n",
       "  <thead>\n",
       "    <tr style=\"text-align: right;\">\n",
       "      <th></th>\n",
       "      <th>0</th>\n",
       "      <th>0.016938</th>\n",
       "    </tr>\n",
       "  </thead>\n",
       "  <tbody>\n",
       "    <tr>\n",
       "      <th>0</th>\n",
       "      <td>1.000000</td>\n",
       "      <td>-0.847539</td>\n",
       "    </tr>\n",
       "    <tr>\n",
       "      <th>0.016938</th>\n",
       "      <td>-0.847539</td>\n",
       "      <td>1.000000</td>\n",
       "    </tr>\n",
       "  </tbody>\n",
       "</table>\n",
       "</div>"
      ],
      "text/plain": [
       "                 0  0.016938\n",
       "0         1.000000 -0.847539\n",
       "0.016938 -0.847539  1.000000"
      ]
     },
     "execution_count": 5,
     "metadata": {},
     "output_type": "execute_result"
    }
   ],
   "source": [
    "corr = data.corr()\n",
    "corr"
   ]
  },
  {
   "cell_type": "markdown",
   "metadata": {},
   "source": [
    "### Regressão Multipla == Regressão Simples"
   ]
  },
  {
   "cell_type": "code",
   "execution_count": 6,
   "metadata": {},
   "outputs": [
    {
     "name": "stdout",
     "output_type": "stream",
     "text": [
      " -------------------------------------------------- \n",
      "Com Normalização: r =  0.7226637419743366 \n",
      " -------------------------------------------------- \n",
      "Sem Normalização: rB =  0.7226637419743367 \n",
      " --------------------------------------------------\n"
     ]
    }
   ],
   "source": [
    "from sklearn.linear_model import LinearRegression\n",
    "\n",
    "lr = LinearRegression()\n",
    "lrB = LinearRegression()\n",
    "\n",
    "lr.fit(X_train, y_train)\n",
    "lrB.fit(X_trainB, y_trainB)\n",
    "\n",
    "r = lr.score(X_test, y_test)\n",
    "rB = lrB.score(X_testB, y_testB)\n",
    "\n",
    "print('',\"-\"*50, '\\nCom Normalização: r = ', r, '\\n', '-'*50, '\\nSem Normalização: rB = ', rB, '\\n', '-'*50)"
   ]
  },
  {
   "cell_type": "code",
   "execution_count": 7,
   "metadata": {},
   "outputs": [],
   "source": [
    "import numpy as np \n",
    "\n",
    "X = dados_normalizados['0']\n",
    "y = dados_normalizados['0.016938']\n",
    "\n",
    "X = np.reshape(X, (-1,1))\n",
    "y = np.reshape(y, (-1,1)).ravel()\n",
    "\n",
    "XB = data['0']\n",
    "yB = data['0.016938']\n",
    "\n",
    "XB = np.reshape(XB, (-1,1))\n",
    "yB = np.reshape(yB, (-1,1)).ravel()\n",
    "# Separando os dados para o treinamento\n",
    "\n",
    "from sklearn.model_selection import train_test_split\n",
    "\n",
    "X_trainB, X_testB, y_trainB, y_testB = train_test_split(XB, yB, test_size=0.2, random_state=42)\n",
    "X_train, X_test, y_train, y_test = train_test_split(X, y, test_size=0.2, random_state=42)\n"
   ]
  },
  {
   "cell_type": "code",
   "execution_count": 8,
   "metadata": {},
   "outputs": [
    {
     "name": "stdout",
     "output_type": "stream",
     "text": [
      " -------------------------------------------------- \n",
      "Com Normalização: r =  0.7226637419743366 \n",
      " -------------------------------------------------- \n",
      "Sem Normalização: rB =  0.7226637419743367 \n",
      " --------------------------------------------------\n"
     ]
    }
   ],
   "source": [
    "from sklearn.linear_model import LinearRegression\n",
    "\n",
    "lr = LinearRegression()\n",
    "lrB = LinearRegression()\n",
    "\n",
    "lr.fit(X_train, y_train)\n",
    "lrB.fit(X_trainB, y_trainB)\n",
    "\n",
    "r = lr.score(X_test, y_test)\n",
    "rB = lrB.score(X_testB, y_testB)\n",
    "\n",
    "print('',\"-\"*50, '\\nCom Normalização: r = ', r, '\\n', '-'*50, '\\nSem Normalização: rB = ', rB, '\\n', '-'*50)"
   ]
  },
  {
   "cell_type": "markdown",
   "metadata": {},
   "source": [
    "### SVR "
   ]
  },
  {
   "cell_type": "code",
   "execution_count": 9,
   "metadata": {},
   "outputs": [],
   "source": [
    "import numpy as np \n",
    "\n",
    "X = dados_normalizados['0']\n",
    "y = dados_normalizados['0.016938']\n",
    "\n",
    "X = np.reshape(X, (-1,1))\n",
    "y = np.reshape(y, (-1,1)).ravel()\n",
    "\n",
    "XB = data['0']\n",
    "yB = data['0.016938']\n",
    "\n",
    "XB = np.reshape(XB, (-1,1))\n",
    "yB = np.reshape(yB, (-1,1)).ravel()\n",
    "# Separando os dados para o treinamento\n",
    "\n",
    "from sklearn.model_selection import train_test_split\n",
    "\n",
    "X_trainB, X_testB, y_trainB, y_testB = train_test_split(XB, yB, test_size=0.2, random_state=42)\n",
    "X_train, X_test, y_train, y_test = train_test_split(X, y, test_size=0.2, random_state=42)\n"
   ]
  },
  {
   "cell_type": "code",
   "execution_count": 10,
   "metadata": {},
   "outputs": [
    {
     "name": "stdout",
     "output_type": "stream",
     "text": [
      " -------------------------------------------------- \n",
      "Com Normalização: r =  0.7185019129082763 \n",
      " -------------------------------------------------- \n",
      "Sem Normalização: rB =  0.7264561995201384 \n",
      " --------------------------------------------------\n"
     ]
    }
   ],
   "source": [
    "from sklearn.svm import SVR\n",
    "\n",
    "svr = SVR(kernel= 'linear')\n",
    "svrB = SVR(kernel= 'linear')\n",
    "\n",
    "svr.fit(X_train, y_train)\n",
    "svrB.fit(X_trainB, y_trainB)\n",
    "\n",
    "\n",
    "r = svr.score(X_test, y_test)\n",
    "rB = svrB.score(X_testB, y_testB)\n",
    "\n",
    "print('',\"-\"*50, '\\nCom Normalização: r = ', r, '\\n', '-'*50, '\\nSem Normalização: rB = ', rB, '\\n', '-'*50)"
   ]
  }
 ],
 "metadata": {
  "kernelspec": {
   "display_name": "Python 3",
   "language": "python",
   "name": "python3"
  },
  "language_info": {
   "codemirror_mode": {
    "name": "ipython",
    "version": 3
   },
   "file_extension": ".py",
   "mimetype": "text/x-python",
   "name": "python",
   "nbconvert_exporter": "python",
   "pygments_lexer": "ipython3",
   "version": "3.10.12"
  }
 },
 "nbformat": 4,
 "nbformat_minor": 2
}
