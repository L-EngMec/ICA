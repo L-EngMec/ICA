{
 "cells": [
  {
   "cell_type": "code",
   "execution_count": 12,
   "metadata": {},
   "outputs": [
    {
     "data": {
      "text/html": [
       "<div>\n",
       "<style scoped>\n",
       "    .dataframe tbody tr th:only-of-type {\n",
       "        vertical-align: middle;\n",
       "    }\n",
       "\n",
       "    .dataframe tbody tr th {\n",
       "        vertical-align: top;\n",
       "    }\n",
       "\n",
       "    .dataframe thead th {\n",
       "        text-align: right;\n",
       "    }\n",
       "</style>\n",
       "<table border=\"1\" class=\"dataframe\">\n",
       "  <thead>\n",
       "    <tr style=\"text-align: right;\">\n",
       "      <th></th>\n",
       "      <th>1</th>\n",
       "      <th>5.0997</th>\n",
       "    </tr>\n",
       "  </thead>\n",
       "  <tbody>\n",
       "    <tr>\n",
       "      <th>0</th>\n",
       "      <td>1.0101</td>\n",
       "      <td>5.5441</td>\n",
       "    </tr>\n",
       "    <tr>\n",
       "      <th>1</th>\n",
       "      <td>1.0201</td>\n",
       "      <td>5.0805</td>\n",
       "    </tr>\n",
       "    <tr>\n",
       "      <th>2</th>\n",
       "      <td>1.0302</td>\n",
       "      <td>4.9859</td>\n",
       "    </tr>\n",
       "    <tr>\n",
       "      <th>3</th>\n",
       "      <td>1.0402</td>\n",
       "      <td>5.1865</td>\n",
       "    </tr>\n",
       "    <tr>\n",
       "      <th>4</th>\n",
       "      <td>1.0503</td>\n",
       "      <td>4.8971</td>\n",
       "    </tr>\n",
       "    <tr>\n",
       "      <th>...</th>\n",
       "      <td>...</td>\n",
       "      <td>...</td>\n",
       "    </tr>\n",
       "    <tr>\n",
       "      <th>194</th>\n",
       "      <td>2.9598</td>\n",
       "      <td>23.3700</td>\n",
       "    </tr>\n",
       "    <tr>\n",
       "      <th>195</th>\n",
       "      <td>2.9698</td>\n",
       "      <td>24.5250</td>\n",
       "    </tr>\n",
       "    <tr>\n",
       "      <th>196</th>\n",
       "      <td>2.9799</td>\n",
       "      <td>24.1370</td>\n",
       "    </tr>\n",
       "    <tr>\n",
       "      <th>197</th>\n",
       "      <td>2.9899</td>\n",
       "      <td>25.1120</td>\n",
       "    </tr>\n",
       "    <tr>\n",
       "      <th>198</th>\n",
       "      <td>3.0000</td>\n",
       "      <td>22.7010</td>\n",
       "    </tr>\n",
       "  </tbody>\n",
       "</table>\n",
       "<p>199 rows × 2 columns</p>\n",
       "</div>"
      ],
      "text/plain": [
       "          1   5.0997\n",
       "0    1.0101   5.5441\n",
       "1    1.0201   5.0805\n",
       "2    1.0302   4.9859\n",
       "3    1.0402   5.1865\n",
       "4    1.0503   4.8971\n",
       "..      ...      ...\n",
       "194  2.9598  23.3700\n",
       "195  2.9698  24.5250\n",
       "196  2.9799  24.1370\n",
       "197  2.9899  25.1120\n",
       "198  3.0000  22.7010\n",
       "\n",
       "[199 rows x 2 columns]"
      ]
     },
     "execution_count": 12,
     "metadata": {},
     "output_type": "execute_result"
    }
   ],
   "source": [
    "# importando os dados\n",
    "import pandas as pd\n",
    "\n",
    "path = r'/home/lapisco/Desktop/ica/ICA/Dados/datasets/regressao/curva/data.csv'\n",
    "data = pd.read_csv(path)\n",
    "\n",
    "data = pd.DataFrame(data)\n",
    "data"
   ]
  },
  {
   "cell_type": "code",
   "execution_count": 13,
   "metadata": {},
   "outputs": [
    {
     "data": {
      "text/plain": [
       "<Axes: xlabel='1', ylabel='5.0997'>"
      ]
     },
     "execution_count": 13,
     "metadata": {},
     "output_type": "execute_result"
    },
    {
     "data": {
      "image/png": "[encoded data removed]",
      "text/plain": [
       "<Figure size 640x480 with 1 Axes>"
      ]
     },
     "metadata": {},
     "output_type": "display_data"
    }
   ],
   "source": [
    "data.plot(kind='scatter', x = '1', y = '5.0997')"
   ]
  },
  {
   "cell_type": "code",
   "execution_count": 14,
   "metadata": {},
   "outputs": [
    {
     "data": {
      "text/html": [
       "<div>\n",
       "<style scoped>\n",
       "    .dataframe tbody tr th:only-of-type {\n",
       "        vertical-align: middle;\n",
       "    }\n",
       "\n",
       "    .dataframe tbody tr th {\n",
       "        vertical-align: top;\n",
       "    }\n",
       "\n",
       "    .dataframe thead th {\n",
       "        text-align: right;\n",
       "    }\n",
       "</style>\n",
       "<table border=\"1\" class=\"dataframe\">\n",
       "  <thead>\n",
       "    <tr style=\"text-align: right;\">\n",
       "      <th></th>\n",
       "      <th>1</th>\n",
       "      <th>5.0997</th>\n",
       "    </tr>\n",
       "  </thead>\n",
       "  <tbody>\n",
       "    <tr>\n",
       "      <th>0</th>\n",
       "      <td>0.000000</td>\n",
       "      <td>0.032174</td>\n",
       "    </tr>\n",
       "    <tr>\n",
       "      <th>1</th>\n",
       "      <td>0.005025</td>\n",
       "      <td>0.009244</td>\n",
       "    </tr>\n",
       "    <tr>\n",
       "      <th>2</th>\n",
       "      <td>0.010101</td>\n",
       "      <td>0.004565</td>\n",
       "    </tr>\n",
       "    <tr>\n",
       "      <th>3</th>\n",
       "      <td>0.015126</td>\n",
       "      <td>0.014487</td>\n",
       "    </tr>\n",
       "    <tr>\n",
       "      <th>4</th>\n",
       "      <td>0.020202</td>\n",
       "      <td>0.000173</td>\n",
       "    </tr>\n",
       "  </tbody>\n",
       "</table>\n",
       "</div>"
      ],
      "text/plain": [
       "          1    5.0997\n",
       "0  0.000000  0.032174\n",
       "1  0.005025  0.009244\n",
       "2  0.010101  0.004565\n",
       "3  0.015126  0.014487\n",
       "4  0.020202  0.000173"
      ]
     },
     "execution_count": 14,
     "metadata": {},
     "output_type": "execute_result"
    }
   ],
   "source": [
    "# Pré-processamento\n",
    "#   Normalizando os dados\n",
    "\n",
    "from sklearn.preprocessing import MinMaxScaler\n",
    "\n",
    "normalizador = MinMaxScaler()\n",
    "normalizador.fit(data)\n",
    "\n",
    "dados_normalizados = pd.DataFrame(normalizador.transform(data), columns = data.columns)\n",
    "\n",
    "X = dados_normalizados.drop(columns='5.0997')\n",
    "y = dados_normalizados['5.0997']\n",
    "\n",
    "XB = data.drop(columns='5.0997')\n",
    "yB = data['5.0997']\n",
    "\n",
    "dados_normalizados.head()"
   ]
  },
  {
   "cell_type": "code",
   "execution_count": 15,
   "metadata": {},
   "outputs": [
    {
     "data": {
      "text/plain": [
       "<Axes: xlabel='1', ylabel='5.0997'>"
      ]
     },
     "execution_count": 15,
     "metadata": {},
     "output_type": "execute_result"
    },
    {
     "data": {
      "image/png": "[encoded data removed]",
      "text/plain": [
       "<Figure size 640x480 with 1 Axes>"
      ]
     },
     "metadata": {},
     "output_type": "display_data"
    }
   ],
   "source": [
    "dados_normalizados.plot(kind='scatter', x = '1', y = '5.0997')"
   ]
  },
  {
   "cell_type": "code",
   "execution_count": 16,
   "metadata": {},
   "outputs": [],
   "source": [
    "from sklearn.model_selection import train_test_split\n",
    "\n",
    "X_trainB, X_testB, y_trainB, y_testB = train_test_split(XB, yB, test_size=0.2, random_state=42)\n",
    "X_train, X_test, y_train, y_test = train_test_split(X, y, test_size=0.2, random_state=42)"
   ]
  },
  {
   "cell_type": "code",
   "execution_count": 17,
   "metadata": {},
   "outputs": [
    {
     "data": {
      "text/html": [
       "<div>\n",
       "<style scoped>\n",
       "    .dataframe tbody tr th:only-of-type {\n",
       "        vertical-align: middle;\n",
       "    }\n",
       "\n",
       "    .dataframe tbody tr th {\n",
       "        vertical-align: top;\n",
       "    }\n",
       "\n",
       "    .dataframe thead th {\n",
       "        text-align: right;\n",
       "    }\n",
       "</style>\n",
       "<table border=\"1\" class=\"dataframe\">\n",
       "  <thead>\n",
       "    <tr style=\"text-align: right;\">\n",
       "      <th></th>\n",
       "      <th>1</th>\n",
       "      <th>5.0997</th>\n",
       "    </tr>\n",
       "  </thead>\n",
       "  <tbody>\n",
       "    <tr>\n",
       "      <th>1</th>\n",
       "      <td>1.000000</td>\n",
       "      <td>0.990464</td>\n",
       "    </tr>\n",
       "    <tr>\n",
       "      <th>5.0997</th>\n",
       "      <td>0.990464</td>\n",
       "      <td>1.000000</td>\n",
       "    </tr>\n",
       "  </tbody>\n",
       "</table>\n",
       "</div>"
      ],
      "text/plain": [
       "               1    5.0997\n",
       "1       1.000000  0.990464\n",
       "5.0997  0.990464  1.000000"
      ]
     },
     "execution_count": 17,
     "metadata": {},
     "output_type": "execute_result"
    }
   ],
   "source": [
    "corr = data.corr()\n",
    "corr"
   ]
  },
  {
   "cell_type": "markdown",
   "metadata": {},
   "source": [
    "### Regressão Multipla == Regressão Simples"
   ]
  },
  {
   "cell_type": "code",
   "execution_count": 18,
   "metadata": {},
   "outputs": [
    {
     "name": "stdout",
     "output_type": "stream",
     "text": [
      " -------------------------------------------------- \n",
      "Com Normalização: r =  0.9819707896273612 \n",
      " -------------------------------------------------- \n",
      "Sem Normalização: rB =  0.9819707896273612 \n",
      " --------------------------------------------------\n"
     ]
    }
   ],
   "source": [
    "from sklearn.linear_model import LinearRegression\n",
    "\n",
    "lr = LinearRegression()\n",
    "lrB = LinearRegression()\n",
    "\n",
    "lr.fit(X_train, y_train)\n",
    "lrB.fit(X_trainB, y_trainB)\n",
    "\n",
    "r = lr.score(X_test, y_test)\n",
    "rB = lrB.score(X_testB, y_testB)\n",
    "\n",
    "print('',\"-\"*50, '\\nCom Normalização: r = ', r, '\\n', '-'*50, '\\nSem Normalização: rB = ', rB, '\\n', '-'*50)"
   ]
  },
  {
   "cell_type": "code",
   "execution_count": 19,
   "metadata": {},
   "outputs": [],
   "source": [
    "import numpy as np \n",
    "\n",
    "X = dados_normalizados['1']\n",
    "y = dados_normalizados['5.0997']\n",
    "\n",
    "X = np.reshape(X, (-1,1))\n",
    "y = np.reshape(y, (-1,1)).ravel()\n",
    "\n",
    "XB = data['1']\n",
    "yB = data['5.0997']\n",
    "\n",
    "XB = np.reshape(XB, (-1,1))\n",
    "yB = np.reshape(yB, (-1,1)).ravel()\n",
    "# Separando os dados para o treinamento\n",
    "\n",
    "from sklearn.model_selection import train_test_split\n",
    "\n",
    "X_trainB, X_testB, y_trainB, y_testB = train_test_split(XB, yB, test_size=0.2, random_state=42)\n",
    "X_train, X_test, y_train, y_test = train_test_split(X, y, test_size=0.2, random_state=42)\n"
   ]
  },
  {
   "cell_type": "code",
   "execution_count": 20,
   "metadata": {},
   "outputs": [
    {
     "name": "stdout",
     "output_type": "stream",
     "text": [
      " -------------------------------------------------- \n",
      "Com Normalização: r =  0.9819707896273612 \n",
      " -------------------------------------------------- \n",
      "Sem Normalização: rB =  0.9819707896273612 \n",
      " --------------------------------------------------\n"
     ]
    }
   ],
   "source": [
    "from sklearn.linear_model import LinearRegression\n",
    "\n",
    "lr = LinearRegression()\n",
    "lrB = LinearRegression()\n",
    "\n",
    "lr.fit(X_train, y_train)\n",
    "lrB.fit(X_trainB, y_trainB)\n",
    "\n",
    "r = lr.score(X_test, y_test)\n",
    "rB = lrB.score(X_testB, y_testB)\n",
    "\n",
    "print('',\"-\"*50, '\\nCom Normalização: r = ', r, '\\n', '-'*50, '\\nSem Normalização: rB = ', rB, '\\n', '-'*50)"
   ]
  },
  {
   "cell_type": "markdown",
   "metadata": {},
   "source": [
    "### SVR"
   ]
  },
  {
   "cell_type": "code",
   "execution_count": 21,
   "metadata": {},
   "outputs": [],
   "source": [
    "import numpy as np \n",
    "\n",
    "X = dados_normalizados['1']\n",
    "y = dados_normalizados['5.0997']\n",
    "\n",
    "X = np.reshape(X, (-1,1))\n",
    "y = np.reshape(y, (-1,1)).ravel()\n",
    "\n",
    "XB = data['1']\n",
    "yB = data['5.0997']\n",
    "\n",
    "XB = np.reshape(XB, (-1,1))\n",
    "yB = np.reshape(yB, (-1,1)).ravel()\n",
    "# Separando os dados para o treinamento\n",
    "\n",
    "from sklearn.model_selection import train_test_split\n",
    "\n",
    "X_trainB, X_testB, y_trainB, y_testB = train_test_split(XB, yB, test_size=0.2, random_state=42)\n",
    "X_train, X_test, y_train, y_test = train_test_split(X, y, test_size=0.2, random_state=42)\n"
   ]
  },
  {
   "cell_type": "code",
   "execution_count": 11,
   "metadata": {},
   "outputs": [
    {
     "name": "stdout",
     "output_type": "stream",
     "text": [
      " -------------------------------------------------- \n",
      "Com Normalização: r =  0.957939511954398 \n",
      " -------------------------------------------------- \n",
      "Sem Normalização: rB =  0.9769804808673266 \n",
      " --------------------------------------------------\n"
     ]
    }
   ],
   "source": [
    "from sklearn.svm import SVR\n",
    "\n",
    "svr = SVR(kernel= 'linear')\n",
    "svrB = SVR(kernel= 'linear')\n",
    "\n",
    "svr.fit(X_train, y_train)\n",
    "svrB.fit(X_trainB, y_trainB)\n",
    "\n",
    "\n",
    "r = svr.score(X_test, y_test)\n",
    "rB = svrB.score(X_testB, y_testB)\n",
    "\n",
    "print('',\"-\"*50, '\\nCom Normalização: r = ', r, '\\n', '-'*50, '\\nSem Normalização: rB = ', rB, '\\n', '-'*50)"
   ]
  }
 ],
 "metadata": {
  "kernelspec": {
   "display_name": "Python 3",
   "language": "python",
   "name": "python3"
  },
  "language_info": {
   "codemirror_mode": {
    "name": "ipython",
    "version": 3
   },
   "file_extension": ".py",
   "mimetype": "text/x-python",
   "name": "python",
   "nbconvert_exporter": "python",
   "pygments_lexer": "ipython3",
   "version": "3.10.12"
  }
 },
 "nbformat": 4,
 "nbformat_minor": 2
}
